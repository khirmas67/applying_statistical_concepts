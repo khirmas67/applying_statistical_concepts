{
 "cells": [
  {
   "cell_type": "markdown",
   "metadata": {},
   "source": [
    "### Install Packages and Import Dataset\n",
    "\n",
    "In this notebook, we’ll be working with the **Wisconsin Diagnostic Breast Cancer (WDBC)** dataset. This dataset is commonly used in machine learning tasks related to classification, and it contains several features derived from digitized images of breast tumor cells obtained via fine needle aspirates (FNAs).\n",
    "\n",
    "Each row in the dataset represents one tumor, with a set of measurements calculated from the cell nuclei present in the image. The dataset has the following columns:\n",
    "- **ID**: Unique identifier for each tumor sample.\n",
    "- **Diagnosis**: The classification label for the tumor (Malignant or Benign).\n",
    "- **Radius Mean, Texture Mean, Perimeter Mean, Area Mean**: Various statistical properties of the tumor.\n",
    "- **Compactness, Concavity, Symmetry**: Other characteristics calculated from the shape and structure of the tumor cells.\n",
    "\n",
    "The target column is **Diagnosis**, which we will try to predict based on the other features in the dataset.\n",
    "\n",
    "This dataset was obtained from the UCI Machine Learning Repository, a well-known resource for datasets in the machine learning community."
   ]
  },
  {
   "cell_type": "code",
<<<<<<< HEAD
   "execution_count": 4,
=======
   "execution_count": 1,
>>>>>>> 3ee57330ef6f50b6b4ded9ff8815b15e5164b22a
   "metadata": {},
   "outputs": [],
   "source": [
    "import pandas as pd\n",
    "import matplotlib.pyplot as plt\n",
    "import matplotlib.colors as mcolors\n",
    "from mpl_toolkits import mplot3d"
   ]
  },
  {
   "cell_type": "code",
<<<<<<< HEAD
   "execution_count": 5,
=======
   "execution_count": 2,
>>>>>>> 3ee57330ef6f50b6b4ded9ff8815b15e5164b22a
   "metadata": {},
   "outputs": [
    {
     "data": {
      "text/html": [
       "<div>\n",
       "<style scoped>\n",
       "    .dataframe tbody tr th:only-of-type {\n",
       "        vertical-align: middle;\n",
       "    }\n",
       "\n",
       "    .dataframe tbody tr th {\n",
       "        vertical-align: top;\n",
       "    }\n",
       "\n",
       "    .dataframe thead th {\n",
       "        text-align: right;\n",
       "    }\n",
       "</style>\n",
       "<table border=\"1\" class=\"dataframe\">\n",
       "  <thead>\n",
       "    <tr style=\"text-align: right;\">\n",
       "      <th></th>\n",
       "      <th>id</th>\n",
       "      <th>diagnosis</th>\n",
       "      <th>radius_mean</th>\n",
       "      <th>texture_mean</th>\n",
       "      <th>perimeter_mean</th>\n",
       "      <th>area_mean</th>\n",
       "      <th>smoothness_mean</th>\n",
       "      <th>compactness_mean</th>\n",
       "      <th>concavity_mean</th>\n",
       "      <th>concave points_mean</th>\n",
       "      <th>...</th>\n",
       "      <th>radius_worst</th>\n",
       "      <th>texture_worst</th>\n",
       "      <th>perimeter_worst</th>\n",
       "      <th>area_worst</th>\n",
       "      <th>smoothness_worst</th>\n",
       "      <th>compactness_worst</th>\n",
       "      <th>concavity_worst</th>\n",
       "      <th>concave points_worst</th>\n",
       "      <th>symmetry_worst</th>\n",
       "      <th>fractal_dimension_worst</th>\n",
       "    </tr>\n",
       "  </thead>\n",
       "  <tbody>\n",
       "    <tr>\n",
       "      <th>0</th>\n",
       "      <td>842302</td>\n",
       "      <td>M</td>\n",
       "      <td>17.99</td>\n",
       "      <td>10.38</td>\n",
       "      <td>122.80</td>\n",
       "      <td>1001.0</td>\n",
       "      <td>0.11840</td>\n",
       "      <td>0.27760</td>\n",
       "      <td>0.30010</td>\n",
       "      <td>0.14710</td>\n",
       "      <td>...</td>\n",
       "      <td>25.380</td>\n",
       "      <td>17.33</td>\n",
       "      <td>184.60</td>\n",
       "      <td>2019.0</td>\n",
       "      <td>0.16220</td>\n",
       "      <td>0.66560</td>\n",
       "      <td>0.7119</td>\n",
       "      <td>0.2654</td>\n",
       "      <td>0.4601</td>\n",
       "      <td>0.11890</td>\n",
       "    </tr>\n",
       "    <tr>\n",
       "      <th>1</th>\n",
       "      <td>842517</td>\n",
       "      <td>M</td>\n",
       "      <td>20.57</td>\n",
       "      <td>17.77</td>\n",
       "      <td>132.90</td>\n",
       "      <td>1326.0</td>\n",
       "      <td>0.08474</td>\n",
       "      <td>0.07864</td>\n",
       "      <td>0.08690</td>\n",
       "      <td>0.07017</td>\n",
       "      <td>...</td>\n",
       "      <td>24.990</td>\n",
       "      <td>23.41</td>\n",
       "      <td>158.80</td>\n",
       "      <td>1956.0</td>\n",
       "      <td>0.12380</td>\n",
       "      <td>0.18660</td>\n",
       "      <td>0.2416</td>\n",
       "      <td>0.1860</td>\n",
       "      <td>0.2750</td>\n",
       "      <td>0.08902</td>\n",
       "    </tr>\n",
       "    <tr>\n",
       "      <th>2</th>\n",
       "      <td>84300903</td>\n",
       "      <td>M</td>\n",
       "      <td>19.69</td>\n",
       "      <td>21.25</td>\n",
       "      <td>130.00</td>\n",
       "      <td>1203.0</td>\n",
       "      <td>0.10960</td>\n",
       "      <td>0.15990</td>\n",
       "      <td>0.19740</td>\n",
       "      <td>0.12790</td>\n",
       "      <td>...</td>\n",
       "      <td>23.570</td>\n",
       "      <td>25.53</td>\n",
       "      <td>152.50</td>\n",
       "      <td>1709.0</td>\n",
       "      <td>0.14440</td>\n",
       "      <td>0.42450</td>\n",
       "      <td>0.4504</td>\n",
       "      <td>0.2430</td>\n",
       "      <td>0.3613</td>\n",
       "      <td>0.08758</td>\n",
       "    </tr>\n",
       "    <tr>\n",
       "      <th>3</th>\n",
       "      <td>84348301</td>\n",
       "      <td>M</td>\n",
       "      <td>11.42</td>\n",
       "      <td>20.38</td>\n",
       "      <td>77.58</td>\n",
       "      <td>386.1</td>\n",
       "      <td>0.14250</td>\n",
       "      <td>0.28390</td>\n",
       "      <td>0.24140</td>\n",
       "      <td>0.10520</td>\n",
       "      <td>...</td>\n",
       "      <td>14.910</td>\n",
       "      <td>26.50</td>\n",
       "      <td>98.87</td>\n",
       "      <td>567.7</td>\n",
       "      <td>0.20980</td>\n",
       "      <td>0.86630</td>\n",
       "      <td>0.6869</td>\n",
       "      <td>0.2575</td>\n",
       "      <td>0.6638</td>\n",
       "      <td>0.17300</td>\n",
       "    </tr>\n",
       "    <tr>\n",
       "      <th>4</th>\n",
       "      <td>84358402</td>\n",
       "      <td>M</td>\n",
       "      <td>20.29</td>\n",
       "      <td>14.34</td>\n",
       "      <td>135.10</td>\n",
       "      <td>1297.0</td>\n",
       "      <td>0.10030</td>\n",
       "      <td>0.13280</td>\n",
       "      <td>0.19800</td>\n",
       "      <td>0.10430</td>\n",
       "      <td>...</td>\n",
       "      <td>22.540</td>\n",
       "      <td>16.67</td>\n",
       "      <td>152.20</td>\n",
       "      <td>1575.0</td>\n",
       "      <td>0.13740</td>\n",
       "      <td>0.20500</td>\n",
       "      <td>0.4000</td>\n",
       "      <td>0.1625</td>\n",
       "      <td>0.2364</td>\n",
       "      <td>0.07678</td>\n",
       "    </tr>\n",
       "    <tr>\n",
       "      <th>...</th>\n",
       "      <td>...</td>\n",
       "      <td>...</td>\n",
       "      <td>...</td>\n",
       "      <td>...</td>\n",
       "      <td>...</td>\n",
       "      <td>...</td>\n",
       "      <td>...</td>\n",
       "      <td>...</td>\n",
       "      <td>...</td>\n",
       "      <td>...</td>\n",
       "      <td>...</td>\n",
       "      <td>...</td>\n",
       "      <td>...</td>\n",
       "      <td>...</td>\n",
       "      <td>...</td>\n",
       "      <td>...</td>\n",
       "      <td>...</td>\n",
       "      <td>...</td>\n",
       "      <td>...</td>\n",
       "      <td>...</td>\n",
       "      <td>...</td>\n",
       "    </tr>\n",
       "    <tr>\n",
       "      <th>564</th>\n",
       "      <td>926424</td>\n",
       "      <td>M</td>\n",
       "      <td>21.56</td>\n",
       "      <td>22.39</td>\n",
       "      <td>142.00</td>\n",
       "      <td>1479.0</td>\n",
       "      <td>0.11100</td>\n",
       "      <td>0.11590</td>\n",
       "      <td>0.24390</td>\n",
       "      <td>0.13890</td>\n",
       "      <td>...</td>\n",
       "      <td>25.450</td>\n",
       "      <td>26.40</td>\n",
       "      <td>166.10</td>\n",
       "      <td>2027.0</td>\n",
       "      <td>0.14100</td>\n",
       "      <td>0.21130</td>\n",
       "      <td>0.4107</td>\n",
       "      <td>0.2216</td>\n",
       "      <td>0.2060</td>\n",
       "      <td>0.07115</td>\n",
       "    </tr>\n",
       "    <tr>\n",
       "      <th>565</th>\n",
       "      <td>926682</td>\n",
       "      <td>M</td>\n",
       "      <td>20.13</td>\n",
       "      <td>28.25</td>\n",
       "      <td>131.20</td>\n",
       "      <td>1261.0</td>\n",
       "      <td>0.09780</td>\n",
       "      <td>0.10340</td>\n",
       "      <td>0.14400</td>\n",
       "      <td>0.09791</td>\n",
       "      <td>...</td>\n",
       "      <td>23.690</td>\n",
       "      <td>38.25</td>\n",
       "      <td>155.00</td>\n",
       "      <td>1731.0</td>\n",
       "      <td>0.11660</td>\n",
       "      <td>0.19220</td>\n",
       "      <td>0.3215</td>\n",
       "      <td>0.1628</td>\n",
       "      <td>0.2572</td>\n",
       "      <td>0.06637</td>\n",
       "    </tr>\n",
       "    <tr>\n",
       "      <th>566</th>\n",
       "      <td>926954</td>\n",
       "      <td>M</td>\n",
       "      <td>16.60</td>\n",
       "      <td>28.08</td>\n",
       "      <td>108.30</td>\n",
       "      <td>858.1</td>\n",
       "      <td>0.08455</td>\n",
       "      <td>0.10230</td>\n",
       "      <td>0.09251</td>\n",
       "      <td>0.05302</td>\n",
       "      <td>...</td>\n",
       "      <td>18.980</td>\n",
       "      <td>34.12</td>\n",
       "      <td>126.70</td>\n",
       "      <td>1124.0</td>\n",
       "      <td>0.11390</td>\n",
       "      <td>0.30940</td>\n",
       "      <td>0.3403</td>\n",
       "      <td>0.1418</td>\n",
       "      <td>0.2218</td>\n",
       "      <td>0.07820</td>\n",
       "    </tr>\n",
       "    <tr>\n",
       "      <th>567</th>\n",
       "      <td>927241</td>\n",
       "      <td>M</td>\n",
       "      <td>20.60</td>\n",
       "      <td>29.33</td>\n",
       "      <td>140.10</td>\n",
       "      <td>1265.0</td>\n",
       "      <td>0.11780</td>\n",
       "      <td>0.27700</td>\n",
       "      <td>0.35140</td>\n",
       "      <td>0.15200</td>\n",
       "      <td>...</td>\n",
       "      <td>25.740</td>\n",
       "      <td>39.42</td>\n",
       "      <td>184.60</td>\n",
       "      <td>1821.0</td>\n",
       "      <td>0.16500</td>\n",
       "      <td>0.86810</td>\n",
       "      <td>0.9387</td>\n",
       "      <td>0.2650</td>\n",
       "      <td>0.4087</td>\n",
       "      <td>0.12400</td>\n",
       "    </tr>\n",
       "    <tr>\n",
       "      <th>568</th>\n",
       "      <td>92751</td>\n",
       "      <td>B</td>\n",
       "      <td>7.76</td>\n",
       "      <td>24.54</td>\n",
       "      <td>47.92</td>\n",
       "      <td>181.0</td>\n",
       "      <td>0.05263</td>\n",
       "      <td>0.04362</td>\n",
       "      <td>0.00000</td>\n",
       "      <td>0.00000</td>\n",
       "      <td>...</td>\n",
       "      <td>9.456</td>\n",
       "      <td>30.37</td>\n",
       "      <td>59.16</td>\n",
       "      <td>268.6</td>\n",
       "      <td>0.08996</td>\n",
       "      <td>0.06444</td>\n",
       "      <td>0.0000</td>\n",
       "      <td>0.0000</td>\n",
       "      <td>0.2871</td>\n",
       "      <td>0.07039</td>\n",
       "    </tr>\n",
       "  </tbody>\n",
       "</table>\n",
       "<p>569 rows × 32 columns</p>\n",
       "</div>"
      ],
      "text/plain": [
       "           id diagnosis  radius_mean  texture_mean  perimeter_mean  area_mean  \\\n",
       "0      842302         M        17.99         10.38          122.80     1001.0   \n",
       "1      842517         M        20.57         17.77          132.90     1326.0   \n",
       "2    84300903         M        19.69         21.25          130.00     1203.0   \n",
       "3    84348301         M        11.42         20.38           77.58      386.1   \n",
       "4    84358402         M        20.29         14.34          135.10     1297.0   \n",
       "..        ...       ...          ...           ...             ...        ...   \n",
       "564    926424         M        21.56         22.39          142.00     1479.0   \n",
       "565    926682         M        20.13         28.25          131.20     1261.0   \n",
       "566    926954         M        16.60         28.08          108.30      858.1   \n",
       "567    927241         M        20.60         29.33          140.10     1265.0   \n",
       "568     92751         B         7.76         24.54           47.92      181.0   \n",
       "\n",
       "     smoothness_mean  compactness_mean  concavity_mean  concave points_mean  \\\n",
       "0            0.11840           0.27760         0.30010              0.14710   \n",
       "1            0.08474           0.07864         0.08690              0.07017   \n",
       "2            0.10960           0.15990         0.19740              0.12790   \n",
       "3            0.14250           0.28390         0.24140              0.10520   \n",
       "4            0.10030           0.13280         0.19800              0.10430   \n",
       "..               ...               ...             ...                  ...   \n",
       "564          0.11100           0.11590         0.24390              0.13890   \n",
       "565          0.09780           0.10340         0.14400              0.09791   \n",
       "566          0.08455           0.10230         0.09251              0.05302   \n",
       "567          0.11780           0.27700         0.35140              0.15200   \n",
       "568          0.05263           0.04362         0.00000              0.00000   \n",
       "\n",
       "     ...  radius_worst  texture_worst  perimeter_worst  area_worst  \\\n",
       "0    ...        25.380          17.33           184.60      2019.0   \n",
       "1    ...        24.990          23.41           158.80      1956.0   \n",
       "2    ...        23.570          25.53           152.50      1709.0   \n",
       "3    ...        14.910          26.50            98.87       567.7   \n",
       "4    ...        22.540          16.67           152.20      1575.0   \n",
       "..   ...           ...            ...              ...         ...   \n",
       "564  ...        25.450          26.40           166.10      2027.0   \n",
       "565  ...        23.690          38.25           155.00      1731.0   \n",
       "566  ...        18.980          34.12           126.70      1124.0   \n",
       "567  ...        25.740          39.42           184.60      1821.0   \n",
       "568  ...         9.456          30.37            59.16       268.6   \n",
       "\n",
       "     smoothness_worst  compactness_worst  concavity_worst  \\\n",
       "0             0.16220            0.66560           0.7119   \n",
       "1             0.12380            0.18660           0.2416   \n",
       "2             0.14440            0.42450           0.4504   \n",
       "3             0.20980            0.86630           0.6869   \n",
       "4             0.13740            0.20500           0.4000   \n",
       "..                ...                ...              ...   \n",
       "564           0.14100            0.21130           0.4107   \n",
       "565           0.11660            0.19220           0.3215   \n",
       "566           0.11390            0.30940           0.3403   \n",
       "567           0.16500            0.86810           0.9387   \n",
       "568           0.08996            0.06444           0.0000   \n",
       "\n",
       "     concave points_worst  symmetry_worst  fractal_dimension_worst  \n",
       "0                  0.2654          0.4601                  0.11890  \n",
       "1                  0.1860          0.2750                  0.08902  \n",
       "2                  0.2430          0.3613                  0.08758  \n",
       "3                  0.2575          0.6638                  0.17300  \n",
       "4                  0.1625          0.2364                  0.07678  \n",
       "..                    ...             ...                      ...  \n",
       "564                0.2216          0.2060                  0.07115  \n",
       "565                0.1628          0.2572                  0.06637  \n",
       "566                0.1418          0.2218                  0.07820  \n",
       "567                0.2650          0.4087                  0.12400  \n",
       "568                0.0000          0.2871                  0.07039  \n",
       "\n",
       "[569 rows x 32 columns]"
      ]
     },
<<<<<<< HEAD
     "execution_count": 5,
=======
     "execution_count": 2,
>>>>>>> 3ee57330ef6f50b6b4ded9ff8815b15e5164b22a
     "metadata": {},
     "output_type": "execute_result"
    }
   ],
   "source": [
    "cancer = pd.read_csv('dataset/wdbc.csv')\n",
    "cancer"
   ]
  },
  {
   "cell_type": "markdown",
   "metadata": {},
   "source": [
    "### What is Pandas?\n",
    "\n",
    "\"But wait, what is that `pd.read_csv()` thing?\" Well, it comes from **pandas**, a powerful Python library designed for data manipulation and analysis. \n",
    "\n",
    "Pandas allows us to efficiently handle datasets, similar to how you would in Excel, but with far more capabilities. It can handle large datasets and perform complex transformations with just a few lines of code.\n",
    "\n",
    "The `pd.read_csv()` function is used to load data from a CSV file into a **DataFrame**, which is like a table of data with rows and columns. Each column can hold different types of data (e.g., numbers, text), making it a versatile structure for analysis.\n",
    "\n",
    "By using pandas in this notebook, we can:\n",
    "- Load and explore the dataset easily.\n",
    "- Identify missing or problematic data.\n",
    "- Group, sort, and manipulate data efficiently.\n",
    "- Prepare the data for machine learning or statistical analysis.\n",
    "\n",
    "As we move forward on our journey, you'll see how pandas simplifies a lot of the heavy lifting in data science!"
   ]
  },
  {
   "cell_type": "markdown",
   "metadata": {},
   "source": [
    "### Inspect the data\n",
    "\n",
    "The `.info()` method in pandas provides a concise summary of a DataFrame, including the dtype, column names, and non-null values. It’s particularly useful for getting an overview of the dataset's structure and identifying any missing data."
   ]
  },
  {
   "cell_type": "code",
   "execution_count": 6,
   "metadata": {},
   "outputs": [
    {
     "name": "stdout",
     "output_type": "stream",
     "text": [
      "<class 'pandas.core.frame.DataFrame'>\n",
      "RangeIndex: 569 entries, 0 to 568\n",
      "Data columns (total 33 columns):\n",
      " #   Column                   Non-Null Count  Dtype  \n",
      "---  ------                   --------------  -----  \n",
      " 0   id                       569 non-null    int64  \n",
      " 1   diagnosis                569 non-null    object \n",
      " 2   radius_mean              569 non-null    float64\n",
      " 3   texture_mean             569 non-null    float64\n",
      " 4   perimeter_mean           569 non-null    float64\n",
      " 5   area_mean                569 non-null    float64\n",
      " 6   smoothness_mean          569 non-null    float64\n",
      " 7   compactness_mean         569 non-null    float64\n",
      " 8   concavity_mean           569 non-null    float64\n",
      " 9   concave points_mean      569 non-null    float64\n",
      " 10  symmetry_mean            569 non-null    float64\n",
      " 11  fractal_dimension_mean   569 non-null    float64\n",
      " 12  radius_se                569 non-null    float64\n",
      " 13  texture_se               569 non-null    float64\n",
      " 14  perimeter_se             569 non-null    float64\n",
      " 15  area_se                  569 non-null    float64\n",
      " 16  smoothness_se            569 non-null    float64\n",
      " 17  compactness_se           569 non-null    float64\n",
      " 18  concavity_se             569 non-null    float64\n",
      " 19  concave points_se        569 non-null    float64\n",
      " 20  symmetry_se              569 non-null    float64\n",
      " 21  fractal_dimension_se     569 non-null    float64\n",
      " 22  radius_worst             569 non-null    float64\n",
      " 23  texture_worst            569 non-null    float64\n",
      " 24  perimeter_worst          569 non-null    float64\n",
      " 25  area_worst               569 non-null    float64\n",
      " 26  smoothness_worst         569 non-null    float64\n",
      " 27  compactness_worst        569 non-null    float64\n",
      " 28  concavity_worst          569 non-null    float64\n",
      " 29  concave points_worst     569 non-null    float64\n",
      " 30  symmetry_worst           569 non-null    float64\n",
      " 31  fractal_dimension_worst  569 non-null    float64\n",
      " 32  Unnamed: 32              0 non-null      float64\n",
      "dtypes: float64(31), int64(1), object(1)\n",
      "memory usage: 146.8+ KB\n"
     ]
    }
   ],
   "source": [
    "cancer.info()"
   ]
  },
  {
   "cell_type": "markdown",
   "metadata": {},
   "source": [
    "\n",
    "The `.unique()` method in pandas returns the unique values in a column. This method is useful for identifying all distinct values within a dataset, especially when you want to see the different categories or groups present in a column."
   ]
  },
  {
   "cell_type": "code",
   "execution_count": 10,
   "metadata": {},
   "outputs": [
    {
     "data": {
      "text/plain": [
       "array(['M', 'B'], dtype=object)"
      ]
     },
     "execution_count": 10,
     "metadata": {},
     "output_type": "execute_result"
    }
   ],
   "source": [
    "cancer[\"diagnosis\"].unique()"
   ]
  },
  {
   "cell_type": "code",
   "execution_count": 54,
   "metadata": {},
   "outputs": [
    {
     "data": {
      "text/html": [
       "<div>\n",
       "<style scoped>\n",
       "    .dataframe tbody tr th:only-of-type {\n",
       "        vertical-align: middle;\n",
       "    }\n",
       "\n",
       "    .dataframe tbody tr th {\n",
       "        vertical-align: top;\n",
       "    }\n",
       "\n",
       "    .dataframe thead th {\n",
       "        text-align: right;\n",
       "    }\n",
       "</style>\n",
       "<table border=\"1\" class=\"dataframe\">\n",
       "  <thead>\n",
       "    <tr style=\"text-align: right;\">\n",
       "      <th></th>\n",
       "      <th>diagnosis</th>\n",
       "      <th>perimeter_mean</th>\n",
       "      <th>concavity_mean</th>\n",
       "    </tr>\n",
       "  </thead>\n",
       "  <tbody>\n",
       "    <tr>\n",
       "      <th>0</th>\n",
       "      <td>Malignant</td>\n",
       "      <td>122.80</td>\n",
       "      <td>0.30010</td>\n",
       "    </tr>\n",
       "    <tr>\n",
       "      <th>1</th>\n",
       "      <td>Malignant</td>\n",
       "      <td>132.90</td>\n",
       "      <td>0.08690</td>\n",
       "    </tr>\n",
       "    <tr>\n",
       "      <th>2</th>\n",
       "      <td>Malignant</td>\n",
       "      <td>130.00</td>\n",
       "      <td>0.19740</td>\n",
       "    </tr>\n",
       "    <tr>\n",
       "      <th>3</th>\n",
       "      <td>Malignant</td>\n",
       "      <td>77.58</td>\n",
       "      <td>0.24140</td>\n",
       "    </tr>\n",
       "    <tr>\n",
       "      <th>4</th>\n",
       "      <td>Malignant</td>\n",
       "      <td>135.10</td>\n",
       "      <td>0.19800</td>\n",
       "    </tr>\n",
       "    <tr>\n",
       "      <th>...</th>\n",
       "      <td>...</td>\n",
       "      <td>...</td>\n",
       "      <td>...</td>\n",
       "    </tr>\n",
       "    <tr>\n",
       "      <th>564</th>\n",
       "      <td>Malignant</td>\n",
       "      <td>142.00</td>\n",
       "      <td>0.24390</td>\n",
       "    </tr>\n",
       "    <tr>\n",
       "      <th>565</th>\n",
       "      <td>Malignant</td>\n",
       "      <td>131.20</td>\n",
       "      <td>0.14400</td>\n",
       "    </tr>\n",
       "    <tr>\n",
       "      <th>566</th>\n",
       "      <td>Malignant</td>\n",
       "      <td>108.30</td>\n",
       "      <td>0.09251</td>\n",
       "    </tr>\n",
       "    <tr>\n",
       "      <th>567</th>\n",
       "      <td>Malignant</td>\n",
       "      <td>140.10</td>\n",
       "      <td>0.35140</td>\n",
       "    </tr>\n",
       "    <tr>\n",
       "      <th>568</th>\n",
       "      <td>Benign</td>\n",
       "      <td>47.92</td>\n",
       "      <td>0.00000</td>\n",
       "    </tr>\n",
       "  </tbody>\n",
       "</table>\n",
       "<p>569 rows × 3 columns</p>\n",
       "</div>"
      ],
      "text/plain": [
       "     diagnosis  perimeter_mean  concavity_mean\n",
       "0    Malignant          122.80         0.30010\n",
       "1    Malignant          132.90         0.08690\n",
       "2    Malignant          130.00         0.19740\n",
       "3    Malignant           77.58         0.24140\n",
       "4    Malignant          135.10         0.19800\n",
       "..         ...             ...             ...\n",
       "564  Malignant          142.00         0.24390\n",
       "565  Malignant          131.20         0.14400\n",
       "566  Malignant          108.30         0.09251\n",
       "567  Malignant          140.10         0.35140\n",
       "568     Benign           47.92         0.00000\n",
       "\n",
       "[569 rows x 3 columns]"
      ]
     },
     "execution_count": 54,
     "metadata": {},
     "output_type": "execute_result"
    }
   ],
   "source": [
    "cancer_1 = cancer[[\"diagnosis\",\"perimeter_mean\", \"concavity_mean\"]]\n",
    "cancer_1"
   ]
  },
  {
   "cell_type": "code",
   "execution_count": 53,
   "metadata": {},
   "outputs": [
    {
     "name": "stdout",
     "output_type": "stream",
     "text": [
      "0      False\n",
      "1      False\n",
      "2      False\n",
      "3      False\n",
      "4      False\n",
      "       ...  \n",
      "564    False\n",
      "565    False\n",
      "566    False\n",
      "567    False\n",
      "568    False\n",
      "Length: 569, dtype: bool\n"
     ]
    },
    {
     "data": {
      "text/html": [
       "<div>\n",
       "<style scoped>\n",
       "    .dataframe tbody tr th:only-of-type {\n",
       "        vertical-align: middle;\n",
       "    }\n",
       "\n",
       "    .dataframe tbody tr th {\n",
       "        vertical-align: top;\n",
       "    }\n",
       "\n",
       "    .dataframe thead th {\n",
       "        text-align: right;\n",
       "    }\n",
       "</style>\n",
       "<table border=\"1\" class=\"dataframe\">\n",
       "  <thead>\n",
       "    <tr style=\"text-align: right;\">\n",
       "      <th></th>\n",
       "      <th>diagnosis</th>\n",
       "      <th>perimeter_mean</th>\n",
       "      <th>concavity_mean</th>\n",
       "    </tr>\n",
       "  </thead>\n",
       "  <tbody>\n",
       "    <tr>\n",
       "      <th>0</th>\n",
       "      <td>M</td>\n",
       "      <td>122.80</td>\n",
       "      <td>0.30010</td>\n",
       "    </tr>\n",
       "    <tr>\n",
       "      <th>1</th>\n",
       "      <td>M</td>\n",
       "      <td>132.90</td>\n",
       "      <td>0.08690</td>\n",
       "    </tr>\n",
       "    <tr>\n",
       "      <th>2</th>\n",
       "      <td>M</td>\n",
       "      <td>130.00</td>\n",
       "      <td>0.19740</td>\n",
       "    </tr>\n",
       "    <tr>\n",
       "      <th>3</th>\n",
       "      <td>M</td>\n",
       "      <td>77.58</td>\n",
       "      <td>0.24140</td>\n",
       "    </tr>\n",
       "    <tr>\n",
       "      <th>4</th>\n",
       "      <td>M</td>\n",
       "      <td>135.10</td>\n",
       "      <td>0.19800</td>\n",
       "    </tr>\n",
       "    <tr>\n",
       "      <th>...</th>\n",
       "      <td>...</td>\n",
       "      <td>...</td>\n",
       "      <td>...</td>\n",
       "    </tr>\n",
       "    <tr>\n",
       "      <th>564</th>\n",
       "      <td>M</td>\n",
       "      <td>142.00</td>\n",
       "      <td>0.24390</td>\n",
       "    </tr>\n",
       "    <tr>\n",
       "      <th>565</th>\n",
       "      <td>M</td>\n",
       "      <td>131.20</td>\n",
       "      <td>0.14400</td>\n",
       "    </tr>\n",
       "    <tr>\n",
       "      <th>566</th>\n",
       "      <td>M</td>\n",
       "      <td>108.30</td>\n",
       "      <td>0.09251</td>\n",
       "    </tr>\n",
       "    <tr>\n",
       "      <th>567</th>\n",
       "      <td>M</td>\n",
       "      <td>140.10</td>\n",
       "      <td>0.35140</td>\n",
       "    </tr>\n",
       "    <tr>\n",
       "      <th>568</th>\n",
       "      <td>B</td>\n",
       "      <td>47.92</td>\n",
       "      <td>0.00000</td>\n",
       "    </tr>\n",
       "  </tbody>\n",
       "</table>\n",
       "<p>569 rows × 3 columns</p>\n",
       "</div>"
      ],
      "text/plain": [
       "    diagnosis  perimeter_mean  concavity_mean\n",
       "0           M          122.80         0.30010\n",
       "1           M          132.90         0.08690\n",
       "2           M          130.00         0.19740\n",
       "3           M           77.58         0.24140\n",
       "4           M          135.10         0.19800\n",
       "..        ...             ...             ...\n",
       "564         M          142.00         0.24390\n",
       "565         M          131.20         0.14400\n",
       "566         M          108.30         0.09251\n",
       "567         M          140.10         0.35140\n",
       "568         B           47.92         0.00000\n",
       "\n",
       "[569 rows x 3 columns]"
      ]
     },
     "execution_count": 53,
     "metadata": {},
     "output_type": "execute_result"
    }
   ],
   "source": [
    "duplicates = cancer_1.duplicated(subset=[\"perimeter_mean\",\"concavity_mean\"], keep=False)\n",
    "print(duplicates)\n",
    "df_unique = cancer_1[~duplicates]\n",
    "df_unique"
   ]
  },
  {
   "cell_type": "code",
   "execution_count": 15,
   "metadata": {},
   "outputs": [
    {
     "name": "stdout",
     "output_type": "stream",
     "text": [
      "    diagnosis  perimeter_mean  concavity_mean\n",
      "0           M          122.80         0.30010\n",
      "1           M          132.90         0.08690\n",
      "2           M          130.00         0.19740\n",
      "3           M           77.58         0.24140\n",
      "4           M          135.10         0.19800\n",
      "..        ...             ...             ...\n",
      "564         M          142.00         0.24390\n",
      "565         M          131.20         0.14400\n",
      "566         M          108.30         0.09251\n",
      "567         M          140.10         0.35140\n",
      "568         B           47.92         0.00000\n",
      "\n",
      "[569 rows x 3 columns]\n"
     ]
    }
   ],
   "source": [
    "duplicates = cancer_1.drop_duplicates(subset=[\"perimeter_mean\",\"concavity_mean\"])\n",
    "print(duplicates)"
   ]
  },
  {
   "cell_type": "code",
   "execution_count": 26,
   "metadata": {},
   "outputs": [
    {
     "name": "stdout",
     "output_type": "stream",
     "text": [
      "    diagnosis  perimeter_mean  concavity_mean\n",
      "0           M          122.80         0.30010\n",
      "1           M          132.90         0.08690\n",
      "2           M          130.00         0.19740\n",
      "3           M           77.58         0.24140\n",
      "4           M          135.10         0.19800\n",
      "..        ...             ...             ...\n",
      "564         M          142.00         0.24390\n",
      "565         M          131.20         0.14400\n",
      "566         M          108.30         0.09251\n",
      "567         M          140.10         0.35140\n",
      "568         B           47.92         0.00000\n",
      "\n",
      "[569 rows x 3 columns]\n"
     ]
    }
   ],
   "source": [
    "duplicates = cancer_1.drop_duplicates(subset=[\"diagnosis\", \"perimeter_mean\",\"concavity_mean\"])\n",
    "print(duplicates)\n"
   ]
  },
  {
   "cell_type": "code",
   "execution_count": 28,
   "metadata": {},
   "outputs": [
    {
     "data": {
      "text/html": [
       "<div>\n",
       "<style scoped>\n",
       "    .dataframe tbody tr th:only-of-type {\n",
       "        vertical-align: middle;\n",
       "    }\n",
       "\n",
       "    .dataframe tbody tr th {\n",
       "        vertical-align: top;\n",
       "    }\n",
       "\n",
       "    .dataframe thead th {\n",
       "        text-align: right;\n",
       "    }\n",
       "</style>\n",
       "<table border=\"1\" class=\"dataframe\">\n",
       "  <thead>\n",
       "    <tr style=\"text-align: right;\">\n",
       "      <th></th>\n",
       "      <th>name</th>\n",
       "      <th>age</th>\n",
       "      <th>city</th>\n",
       "    </tr>\n",
       "  </thead>\n",
       "  <tbody>\n",
       "    <tr>\n",
       "      <th>0</th>\n",
       "      <td>John</td>\n",
       "      <td>40</td>\n",
       "      <td>Bergen</td>\n",
       "    </tr>\n",
       "    <tr>\n",
       "      <th>1</th>\n",
       "      <td>Mary</td>\n",
       "      <td>30</td>\n",
       "      <td>Oslo</td>\n",
       "    </tr>\n",
       "    <tr>\n",
       "      <th>2</th>\n",
       "      <td>John</td>\n",
       "      <td>40</td>\n",
       "      <td>Stavanger</td>\n",
       "    </tr>\n",
       "    <tr>\n",
       "      <th>3</th>\n",
       "      <td>Sally</td>\n",
       "      <td>50</td>\n",
       "      <td>Oslo</td>\n",
       "    </tr>\n",
       "    <tr>\n",
       "      <th>4</th>\n",
       "      <td>Mary</td>\n",
       "      <td>30</td>\n",
       "      <td>Oslo</td>\n",
       "    </tr>\n",
       "  </tbody>\n",
       "</table>\n",
       "</div>"
      ],
      "text/plain": [
       "    name  age       city\n",
       "0   John   40     Bergen\n",
       "1   Mary   30       Oslo\n",
       "2   John   40  Stavanger\n",
       "3  Sally   50       Oslo\n",
       "4   Mary   30       Oslo"
      ]
     },
     "execution_count": 28,
     "metadata": {},
     "output_type": "execute_result"
    }
   ],
   "source": [
    "qama = {\n",
    "  \"name\": [\"John\", \"Mary\", \"John\", \"Sally\", \"Mary\"],\n",
    "  \"age\": [40, 30, 40, 50, 30],\n",
    "  \"city\": [\"Bergen\", \"Oslo\", \"Stavanger\", \"Oslo\", \"Oslo\"]\n",
    "}\n",
    "df = pd.DataFrame(qama)\n",
    "df"
   ]
  },
  {
   "cell_type": "code",
   "execution_count": 71,
   "metadata": {},
   "outputs": [
    {
     "data": {
      "text/plain": [
       "age  city     \n",
       "30   Oslo         2\n",
       "40   Bergen       1\n",
       "     Stavanger    1\n",
       "50   Oslo         1\n",
       "dtype: int64"
      ]
     },
     "execution_count": 71,
     "metadata": {},
     "output_type": "execute_result"
    }
   ],
   "source": [
    "df.groupby(['age','city']).size()"
   ]
  },
  {
   "cell_type": "code",
   "execution_count": 19,
   "metadata": {},
   "outputs": [
    {
     "data": {
      "text/html": [
       "<div>\n",
       "<style scoped>\n",
       "    .dataframe tbody tr th:only-of-type {\n",
       "        vertical-align: middle;\n",
       "    }\n",
       "\n",
       "    .dataframe tbody tr th {\n",
       "        vertical-align: top;\n",
       "    }\n",
       "\n",
       "    .dataframe thead th {\n",
       "        text-align: right;\n",
       "    }\n",
       "</style>\n",
       "<table border=\"1\" class=\"dataframe\">\n",
       "  <thead>\n",
       "    <tr style=\"text-align: right;\">\n",
       "      <th></th>\n",
       "      <th>name</th>\n",
       "      <th>age</th>\n",
       "      <th>city</th>\n",
       "    </tr>\n",
       "  </thead>\n",
       "  <tbody>\n",
       "    <tr>\n",
       "      <th>0</th>\n",
       "      <td>John</td>\n",
       "      <td>40</td>\n",
       "      <td>Bergen</td>\n",
       "    </tr>\n",
       "    <tr>\n",
       "      <th>1</th>\n",
       "      <td>Mary</td>\n",
       "      <td>30</td>\n",
       "      <td>Oslo</td>\n",
       "    </tr>\n",
       "    <tr>\n",
       "      <th>2</th>\n",
       "      <td>John</td>\n",
       "      <td>40</td>\n",
       "      <td>Stavanger</td>\n",
       "    </tr>\n",
       "    <tr>\n",
       "      <th>3</th>\n",
       "      <td>Sally</td>\n",
       "      <td>50</td>\n",
       "      <td>Oslo</td>\n",
       "    </tr>\n",
       "  </tbody>\n",
       "</table>\n",
       "</div>"
      ],
      "text/plain": [
       "    name  age       city\n",
       "0   John   40     Bergen\n",
       "1   Mary   30       Oslo\n",
       "2   John   40  Stavanger\n",
       "3  Sally   50       Oslo"
      ]
     },
     "execution_count": 19,
     "metadata": {},
     "output_type": "execute_result"
    }
   ],
   "source": [
    "df_new = df.drop_duplicates(subset=[\"age\", \"city\"])\n",
    "df_new"
   ]
  },
  {
   "cell_type": "code",
   "execution_count": 49,
   "metadata": {},
   "outputs": [
    {
     "data": {
      "text/html": [
       "<div>\n",
       "<style scoped>\n",
       "    .dataframe tbody tr th:only-of-type {\n",
       "        vertical-align: middle;\n",
       "    }\n",
       "\n",
       "    .dataframe tbody tr th {\n",
       "        vertical-align: top;\n",
       "    }\n",
       "\n",
       "    .dataframe thead th {\n",
       "        text-align: right;\n",
       "    }\n",
       "</style>\n",
       "<table border=\"1\" class=\"dataframe\">\n",
       "  <thead>\n",
       "    <tr style=\"text-align: right;\">\n",
       "      <th></th>\n",
       "      <th>name</th>\n",
       "      <th>age</th>\n",
       "      <th>city</th>\n",
       "    </tr>\n",
       "  </thead>\n",
       "  <tbody>\n",
       "    <tr>\n",
       "      <th>0</th>\n",
       "      <td>John</td>\n",
       "      <td>40</td>\n",
       "      <td>Bergen</td>\n",
       "    </tr>\n",
       "    <tr>\n",
       "      <th>1</th>\n",
       "      <td>Mary</td>\n",
       "      <td>30</td>\n",
       "      <td>Oslo</td>\n",
       "    </tr>\n",
       "    <tr>\n",
       "      <th>2</th>\n",
       "      <td>John</td>\n",
       "      <td>40</td>\n",
       "      <td>Stavanger</td>\n",
       "    </tr>\n",
       "    <tr>\n",
       "      <th>3</th>\n",
       "      <td>Sally</td>\n",
       "      <td>50</td>\n",
       "      <td>Oslo</td>\n",
       "    </tr>\n",
       "  </tbody>\n",
       "</table>\n",
       "</div>"
      ],
      "text/plain": [
       "    name  age       city\n",
       "0   John   40     Bergen\n",
       "1   Mary   30       Oslo\n",
       "2   John   40  Stavanger\n",
       "3  Sally   50       Oslo"
      ]
     },
     "execution_count": 49,
     "metadata": {},
     "output_type": "execute_result"
    }
   ],
   "source": [
    "df_new = df.duplicated(subset=[\"age\", \"city\"]) # remove all the rows that have same age and city (30, Oslo).\n",
    "#If you remove keep=False, it will work as df.drop_duplicates(subset=[\"age\", \"city\"])\n",
    "filtered =df[~df_new]\n",
    "filtered"
   ]
  },
  {
   "cell_type": "markdown",
   "metadata": {},
   "source": [
    "Clean data by renaming \"M\" to \"Malignant\" and \"B\" to \"Benign\" using the `.replace` method. The `.replace` method takes one argument: a dictionary that maps previous values to desired new values."
   ]
  },
  {
   "cell_type": "code",
   "execution_count": 51,
   "metadata": {},
   "outputs": [
    {
     "data": {
      "text/plain": [
       "array(['Malignant', 'Benign'], dtype=object)"
      ]
     },
     "execution_count": 51,
     "metadata": {},
     "output_type": "execute_result"
    }
   ],
   "source": [
    "cancer[\"diagnosis\"] = cancer[\"diagnosis\"].replace({\n",
    "    \"M\" : \"Malignant\",\n",
    "    \"B\" : \"Benign\"\n",
    "})\n",
    "\n",
    "cancer[\"diagnosis\"].unique()"
   ]
  },
  {
   "cell_type": "code",
   "execution_count": 55,
   "metadata": {},
   "outputs": [
    {
     "data": {
      "text/plain": [
       "(569, 3)"
      ]
     },
     "execution_count": 55,
     "metadata": {},
     "output_type": "execute_result"
    }
   ],
   "source": [
    "cancer_1.shape"
   ]
  },
  {
   "cell_type": "markdown",
   "metadata": {},
   "source": [
    "\n",
    "To analyze the distribution of benign and malignant tumor observations in the dataset, we can use the `.groupby` and `.size` methods with pandas.\n",
    "\n",
    "Group the Data by the Class Variable:\n",
    "\n",
    "1. Use `.groupby` on the Class column to group the data by benign and malignant tumor observations.\n",
    "Count the Observations:\n",
    "\n",
    "2. Apply the `.size` method to count the number of observations in each group.\n",
    "\n",
    "Calculate Percentages:\n",
    "\n",
    "3. Divide the counts by **the total number of observations** (found using `df.shape`[0]) and multiply by 100 to get the percentage."
   ]
  },
  {
   "cell_type": "code",
   "execution_count": 63,
   "metadata": {},
   "outputs": [
    {
     "data": {
      "text/plain": [
       "diagnosis\n",
       "Benign       357\n",
       "Malignant    212\n",
       "dtype: int64"
      ]
     },
     "execution_count": 63,
     "metadata": {},
     "output_type": "execute_result"
    }
   ],
   "source": [
    "cancer.groupby(\"diagnosis\").size()"
   ]
  },
  {
   "cell_type": "code",
   "execution_count": 58,
   "metadata": {},
   "outputs": [
    {
     "data": {
      "text/plain": [
       "diagnosis\n",
       "Benign       62.741652\n",
       "Malignant    37.258348\n",
       "dtype: float64"
      ]
     },
     "execution_count": 58,
     "metadata": {},
     "output_type": "execute_result"
    }
   ],
   "source": [
    "100 * cancer.groupby(\"diagnosis\").size() / cancer.shape[0]   # returns percentages"
   ]
  },
  {
   "cell_type": "code",
   "execution_count": 72,
   "metadata": {},
   "outputs": [
    {
     "data": {
      "text/plain": [
       "(569, 33)"
      ]
     },
     "execution_count": 72,
     "metadata": {},
     "output_type": "execute_result"
    }
   ],
   "source": [
    "cancer.shape # the size of the cancer data set"
   ]
  },
  {
   "cell_type": "markdown",
   "metadata": {},
   "source": [
    "The `.value_counts` method in pandas efficiently counts the occurrences of each unique value in a column."
   ]
  },
  {
   "cell_type": "code",
   "execution_count": 74,
   "metadata": {},
   "outputs": [
    {
     "data": {
      "text/plain": [
       "diagnosis\n",
       "Benign       357\n",
       "Malignant    212\n",
       "Name: count, dtype: int64"
      ]
     },
     "execution_count": 74,
     "metadata": {},
     "output_type": "execute_result"
    }
   ],
   "source": [
    "cancer[\"diagnosis\"].value_counts()  # returns values"
   ]
  },
  {
   "cell_type": "markdown",
   "metadata": {},
   "source": [
    " By using the `normalize=True` argument, it can also return the fraction (or percentage) of each value, providing a quick and convenient way to analyze the distribution of data."
   ]
  },
  {
   "cell_type": "code",
   "execution_count": 75,
   "metadata": {},
   "outputs": [
    {
     "data": {
      "text/plain": [
       "diagnosis\n",
       "Benign       0.627417\n",
       "Malignant    0.372583\n",
       "Name: proportion, dtype: float64"
      ]
     },
     "execution_count": 75,
     "metadata": {},
     "output_type": "execute_result"
    }
   ],
   "source": [
    "cancer[\"diagnosis\"].value_counts(normalize=True)  # returns fractions"
   ]
  },
  {
   "cell_type": "markdown",
   "metadata": {},
   "source": [
    "### Visualizing the Data\n",
    "\n",
    "Now, let’s create a scatter plot to visualize the relationship between **perimeter mean** and **concavity mean**. This will help us see how these features relate to whether a tumor is benign or malignant.\n",
    "\n",
    "_The code below may look a bit intimidating, but don’t worry! You don’t need to understand every line right now. It uses matplotlib to create the plot and map different colors to the benign and malignant tumor groups._\n",
    "\n",
    "_Even if this feels complex, the key takeaway is seeing how we can visualize patterns in the data. Later, as you get more familiar with plotting, you can revisit this code to dissect it further._"
   ]
  },
  {
   "cell_type": "code",
   "execution_count": 76,
   "metadata": {},
   "outputs": [
    {
     "data": {
      "image/png": "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",
      "text/plain": [
       "<Figure size 640x480 with 1 Axes>"
      ]
     },
     "metadata": {},
     "output_type": "display_data"
    }
   ],
   "source": [
    "# Create mapping between values and colors\n",
    "labels = cancer[\"diagnosis\"].unique().tolist()\n",
    "colors = list(mcolors.TABLEAU_COLORS.keys())\n",
    "color_map = {l: colors[i % len(colors)] for i, l in enumerate(labels)}\n",
    "\n",
    "# Plot\n",
    "plt.scatter(cancer[\"perimeter_mean\"], cancer['compactness_mean'], \n",
    "            color=cancer[\"diagnosis\"].map(color_map))\n",
    "\n",
    "# Create custom legend handles\n",
    "handles = [plt.Line2D([0], [0], marker='o', color='w', label=label,\n",
    "                      markersize=10, markerfacecolor=color_map[label])\n",
    "           for label in labels]\n",
    "\n",
    "# Add labels and legend\n",
    "plt.xlabel('Perimeter Mean')\n",
    "plt.ylabel('Compactness Mean')\n",
    "plt.title('Scatter Plot of Perimeter Mean vs Compactness Mean')\n",
    "plt.legend(handles=handles, title='Diagnosis')\n",
    "plt.show()\n"
   ]
  },
  {
   "cell_type": "markdown",
   "metadata": {},
   "source": [
    "_It’s okay if you don’t grasp everything right away—focus on understanding the output and come back to the code when you’re ready!_"
   ]
  },
  {
   "cell_type": "markdown",
   "metadata": {},
   "source": [
    "- **Malignant Observations**: These tend to be located in the upper right-hand corner of the plot (blue), indicating higher values for both concavity and perimeter.\n",
    "- **Benign Observations**: These are generally found in the lower left-hand corner (orange), suggesting lower values for concavity and perimeter.\n",
    "\n",
    "This visual pattern suggests that it may be possible to predict the diagnosis of new tumor images by using their concavity and perimeter mean values."
   ]
  },
  {
   "cell_type": "markdown",
   "metadata": {},
   "source": [
    "### K-Nearest Neighbors Manually\n",
    "\n",
    "In this section, we’ll manually implement the K-nearest neighbors (KNN) algorithm to classify a new data point. The idea behind KNN is simple: given a new observation, the algorithm looks at the \"K\" closest points in the dataset and assigns the class (benign or malignant) based on the majority class of its neighbors.\n",
    "\n",
    "We’ll plot the existing data and add a new observation to the plot, then calculate the distances between the new point and the other points in the dataset to find its nearest neighbors."
   ]
  },
  {
   "cell_type": "code",
   "execution_count": 77,
   "metadata": {},
   "outputs": [
    {
     "data": {
      "image/png": "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",
      "text/plain": [
       "<Figure size 640x480 with 1 Axes>"
      ]
     },
     "metadata": {},
     "output_type": "display_data"
    }
   ],
   "source": [
    "# Plot existing data\n",
    "plt.scatter(cancer[\"perimeter_mean\"], cancer['compactness_mean'], \n",
    "            color=cancer[\"diagnosis\"].map(color_map))\n",
    "\n",
    "# Create custom legend handles\n",
    "handles = [plt.Line2D([0], [0], marker='o', color='w', label=label,\n",
    "                      markersize=10, markerfacecolor=color_map[label])\n",
    "           for label in labels]\n",
    "\n",
    "# Add new observation\n",
    "new_observation = {'perimeter_mean': 97, 'compactness_mean': 0.20}\n",
    "plt.scatter(new_observation['perimeter_mean'], new_observation['compactness_mean'],\n",
    "            color='red', edgecolor='black', s=100, label='New Observation')\n",
    "\n",
    "# Add labels and legend\n",
    "plt.xlabel('Perimeter Mean')\n",
    "plt.ylabel('Compactness Mean')\n",
    "plt.title('Scatter Plot of Perimeter Mean vs Compactness Mean')\n",
    "plt.legend(handles=handles + [plt.Line2D([0], [0], marker='o', color='w', \n",
    "                                          markerfacecolor='red', markeredgecolor='black', \n",
    "                                          markersize=10, label='New Observation')], \n",
    "           title='Diagnosis')\n",
    "plt.show()"
   ]
  },
  {
   "cell_type": "markdown",
   "metadata": {},
   "source": [
    "To find the $K$ nearest neighbors to our new observation, we compute the distance from that new observation to each observation in our training data, and select the $K$ observations corresponding to the smallest distance values. For example, suppose we want to use $K= 5$ neighbors to classify a new observation with mean perimeter 97 and concavity 0.20. We can calculate the distances between our new point and each of the observations in the training set to find the $5$ neighbors that are nearest to our new point. "
   ]
  },
  {
   "cell_type": "markdown",
   "metadata": {},
   "source": [
    "$$\n",
    "Distance = \\sqrt{(x_B - x_A)^2 + (y_B - y_A)^2}\n",
    "$$\n"
   ]
  },
  {
   "cell_type": "markdown",
   "metadata": {},
   "source": [
    " In order to find the $K = 5$ nearest neighbors, we will use the `nsmallest` function from pandas."
   ]
  },
  {
   "cell_type": "code",
   "execution_count": null,
   "metadata": {},
   "outputs": [],
   "source": [
    "new_obs_Perimeter = 97\n",
    "new_obs_Concavity = 0.20\n",
    "cancer[\"dist_from_new\"] = (\n",
    "       (cancer[\"perimeter_mean\"] - new_obs_Perimeter) ** 2\n",
    "     + (cancer[\"concavity_mean\"] - new_obs_Concavity) ** 2\n",
    ")**(1/2)\n",
    "\n",
    "nearest_5 = cancer.nsmallest(5, \"dist_from_new\")[[\n",
    "    \"perimeter_mean\",\n",
    "    \"concavity_mean\",\n",
    "    \"diagnosis\",\n",
    "    \"dist_from_new\"\n",
    "]]\n",
    "\n",
    "nearest_5"
   ]
  },
  {
   "cell_type": "code",
   "execution_count": null,
   "metadata": {},
   "outputs": [],
   "source": [
    "cancer # to see if the dist_from_new is added"
   ]
  },
  {
   "cell_type": "markdown",
   "metadata": {},
   "source": [
    " Tumor Data with Distance Calculations\n",
    "\n",
    "| Perimeter Mean | Concavity Mean | Distance                                      | Diagnosis     |\n",
    "|----------------|----------------|-----------------------------------------------|---------------|\n",
    "| 97.03          | 0.05940        | $\\sqrt{(97.03 - 97)^2 + (0.05940 - 0.20)^2}$ | Benign        |\n",
    "| 96.85          | 0.15390        | $\\sqrt{(96.85 - 97)^2 + (0.15390 - 0.20)^2}$ | Malignant     |\n",
    "| 96.73          | 0.16390        | $\\sqrt{(96.73 - 97)^2 + (0.16390 - 0.20)^2}$ | Malignant     |\n",
    "| 97.26          | 0.07486        | $\\sqrt{(97.26 - 97)^2 + (0.07486 - 0.20)^2}$ | Malignant     |\n",
    "| 97.26          | 0.05253        | $\\sqrt{(97.26 - 97)^2 + (0.05253 - 0.20)^2}$ | Malignant        |\n",
    "\n"
   ]
  },
  {
   "cell_type": "markdown",
   "metadata": {},
   "source": [
    "The result of this computation shows that 4 of the 5 nearest neighbors to our new observation are malignant"
   ]
  },
  {
   "cell_type": "markdown",
   "metadata": {},
   "source": [
    "### What if we have more than 2 variables?\n",
    "\n",
    "So far, we’ve only looked at the relationship between two features: **perimeter mean** and **concavity mean**. But what if we want to include more features in our analysis? In that case, we can extend our scatter plot into three dimensions to visualize how a third feature (in this case, **symmetry mean**) interacts with the others.\n",
    "\n",
    "This 3D scatter plot will help us see if adding another feature might give us more insight into classifying the data. By visualizing multiple features at once, we can start to understand how they work together to differentiate benign from malignant tumors."
   ]
  },
  {
   "cell_type": "code",
   "execution_count": null,
   "metadata": {},
   "outputs": [],
   "source": [
    "# Create mapping between values and colors\n",
    "labels = cancer[\"diagnosis\"].unique().tolist()\n",
    "colors = list(mcolors.TABLEAU_COLORS.keys())\n",
    "color_map = {l: colors[i % len(colors)] for i, l in enumerate(labels)}\n",
    "\n",
    "# Create a 3D plot\n",
    "ax = plt.axes(projection=\"3d\")\n",
    "\n",
    "# Plot data points with color corresponding to diagnosis\n",
    "sc = ax.scatter3D(cancer['perimeter_mean'], cancer['concavity_mean'], cancer['symmetry_mean'], \n",
    "                  c=cancer['diagnosis'].map(color_map), marker='o')\n",
    "\n",
    "# Add axis labels\n",
    "ax.set_xlabel('Perimeter Mean')\n",
    "ax.set_ylabel('Concavity Mean')\n",
    "ax.set_zlabel('Symmetry Mean')\n",
    "ax.set_title('3D Scatter Plot of Perimeter Mean, Concavity Mean, and Symmetry Mean')\n",
    "\n",
    "# Create custom legend handles\n",
    "handles = [plt.Line2D([0], [0], marker='o', color='w', label=label,\n",
    "                      markersize=10, markerfacecolor=color_map[label])\n",
    "           for label in labels]\n",
    "\n",
    "# Add legend\n",
    "plt.legend(handles=handles, title='Diagnosis')\n",
    "\n",
    "# Show plot\n",
    "plt.show()\n"
   ]
  },
  {
   "cell_type": "markdown",
   "metadata": {},
   "source": [
    "Suppose we want to use $K= 5$ neighbors to classify a new observation with a perimeter of 97, concavity of 0.20, and symmetry of 0.22. "
   ]
  },
  {
   "cell_type": "markdown",
   "metadata": {},
   "source": [
    "$$\n",
    "Distance = \\sqrt{(x_B - x_A)^2 + (y_B - y_A)^2 + (z_B - z_A)}\n",
    "$$"
   ]
  },
  {
   "cell_type": "code",
   "execution_count": null,
   "metadata": {},
   "outputs": [],
   "source": [
    "# Create mapping between values and colors\n",
    "labels = cancer[\"diagnosis\"].unique().tolist()\n",
    "colors = list(mcolors.TABLEAU_COLORS.keys())\n",
    "color_map = {l: colors[i % len(colors)] for i, l in enumerate(labels)}\n",
    "\n",
    "# Create a 3D plot\n",
    "ax = plt.axes(projection=\"3d\")\n",
    "\n",
    "# Plot data points with color corresponding to diagnosis\n",
    "sc = ax.scatter3D(cancer['perimeter_mean'], cancer['concavity_mean'], cancer['symmetry_mean'], \n",
    "                  c=cancer['diagnosis'].map(color_map), marker='o')\n",
    "\n",
    "# Define the new observation\n",
    "new_observation = {'perimeter_mean': 97, 'compactness_mean': 0.20, 'symmetry_mean': 0.22}\n",
    "\n",
    "# Plot the new observation\n",
    "ax.scatter3D(new_observation['perimeter_mean'], new_observation['compactness_mean'], \n",
    "             new_observation['symmetry_mean'], color='red', edgecolor='black', \n",
    "             s=100, marker='o', label='New Observation')\n",
    "\n",
    "# Add axis labels\n",
    "ax.set_xlabel('Perimeter Mean')\n",
    "ax.set_ylabel('Concavity Mean')\n",
    "ax.set_zlabel('Symmetry Mean')\n",
    "ax.set_title('3D Scatter Plot of Perimeter Mean, Concavity Mean, and Symmetry Mean')\n",
    "\n",
    "# Create custom legend handles\n",
    "handles = [plt.Line2D([0], [0], marker='o', color='w', label=label,\n",
    "                      markersize=10, markerfacecolor=color_map[label])\n",
    "           for label in labels]\n",
    "\n",
    "# Add custom legend for new observation\n",
    "handles.append(plt.Line2D([0], [0], marker='o', color='red', label='New Observation', \n",
    "                          markersize=10, markeredgecolor='black'))\n",
    "\n",
    "# Add legend\n",
    "plt.legend(handles=handles, title='Diagnosis')\n",
    "\n",
    "# Show plot\n",
    "plt\n"
   ]
  },
  {
   "cell_type": "code",
   "execution_count": null,
   "metadata": {},
   "outputs": [],
   "source": [
    "new_obs_Perimeter = 97\n",
    "new_obs_Concavity = 0.20\n",
    "new_obs_Symmetry = 0.22\n",
    "cancer[\"dist_from_new\"] = (\n",
    "      (cancer[\"perimeter_mean\"] - new_obs_Perimeter) ** 2\n",
    "    + (cancer[\"concavity_mean\"] - new_obs_Concavity) ** 2\n",
    "    + (cancer[\"symmetry_mean\"] - new_obs_Symmetry) ** 2\n",
    ")**(1/2)\n",
    "cancer.nsmallest(5, \"dist_from_new\")[[\n",
    "    \"perimeter_mean\",\n",
    "    \"concavity_mean\",\n",
    "    \"symmetry_mean\",\n",
    "    \"diagnosis\",\n",
    "    \"dist_from_new\"\n",
    "]]"
   ]
  },
  {
   "cell_type": "markdown",
   "metadata": {},
   "source": [
    "Based on $K = 5$ nearest neighbors with these three predictors we would classify the new observation as malignant since 4 out of 5 of the nearest neighbors are malignant class. "
   ]
  },
  {
   "cell_type": "markdown",
   "metadata": {},
   "source": [
    "#### K-Nearest Neighbours using `scikit-learn`"
   ]
  },
  {
   "cell_type": "markdown",
   "metadata": {},
   "source": [
    "Coding the K-nearest neighbors algorithm from scratch in Python can become complex, particularly when dealing with multiple classes, more than two variables, or predicting the class for several new observations.\n",
    "\n",
    " Fortunately, Python's `scikit-learn` package offers a built-in implementation of the KNN algorithm. This implementation simplifies the process, making our code more readable, accurate, and less prone to errors. \n"
   ]
  },
  {
   "cell_type": "markdown",
   "metadata": {},
   "source": [
    " To ensure compatibility with pandas DataFrames when using scikit-learn, it's important to configure the package appropriately using the `set_config` function before starting with KNN."
   ]
  },
  {
   "cell_type": "code",
   "execution_count": 89,
   "metadata": {},
   "outputs": [],
   "source": [
    "from sklearn import set_config\n",
    "\n",
    "# Output dataframes instead of arrays\n",
    "set_config(transform_output=\"pandas\")"
   ]
  },
  {
   "cell_type": "markdown",
   "metadata": {},
   "source": [
    "Step 1. import the `KNeighborsClassifier` from the `sklearn.neighbors` module."
   ]
  },
  {
   "cell_type": "code",
   "execution_count": 90,
   "metadata": {},
   "outputs": [],
   "source": [
    "from sklearn.neighbors import KNeighborsClassifier"
   ]
  },
  {
   "cell_type": "markdown",
   "metadata": {},
   "source": [
    "Similar to above, we will use perimeter mean and concavity mean as predictors and \n",
    "$K = 5$ neighbors to build our classifier."
   ]
  },
  {
   "cell_type": "code",
   "execution_count": null,
   "metadata": {},
   "outputs": [],
   "source": [
    "cancer_train = cancer[[\"diagnosis\", \"perimeter_mean\", \"concavity_mean\"]]\n",
    "cancer_train"
   ]
  },
  {
   "cell_type": "markdown",
   "metadata": {},
   "source": [
    "Step 2. Create a model object for K-nearest neighbors classification by creating a `KNeighborsClassifier` instance, specifying that we want to use $K = 5$ neighbors"
   ]
  },
  {
   "cell_type": "code",
   "execution_count": null,
   "metadata": {},
   "outputs": [],
   "source": [
    "knn = KNeighborsClassifier(n_neighbors=5)\n",
    "knn"
   ]
  },
  {
   "cell_type": "markdown",
   "metadata": {},
   "source": [
    "Step 3. Fit the model on the breast cancer data. \n",
    "The `X` argument is used to specify the data for the predictor variables, while the `y` argument is used to specify the data for the response variable. \n",
    "\n",
    "Here, \n",
    "- `X=cancer_train[[\"perimeter_mean\", \"concavity_mean\"]]` *to specify both Perimeter and Concavity means are to be used as the predictors.* \n",
    "- `y=cancer_train[\"diagnosis\"]` *to specify that diagnosis is the response variable (the one we want to predict)* "
   ]
  },
  {
   "cell_type": "code",
   "execution_count": null,
   "metadata": {},
   "outputs": [],
   "source": [
    "knn.fit(X=cancer_train[[\"perimeter_mean\", \"concavity_mean\"]], y=cancer_train[\"diagnosis\"])"
   ]
  },
  {
   "cell_type": "markdown",
   "metadata": {},
   "source": [
    "Step 4. Make a prediction on a new observation by calling `.predict` on the classifier object, passing the new observation itself."
   ]
  },
  {
   "cell_type": "code",
   "execution_count": null,
   "metadata": {},
   "outputs": [],
   "source": [
    "new_obs = pd.DataFrame({\"perimeter_mean\": [97], \"concavity_mean\": [0.20]})\n",
    "knn.predict(new_obs)"
   ]
  },
  {
   "cell_type": "markdown",
   "metadata": {},
   "source": [
    "Prediction is the same as what we manually computed above!"
   ]
  },
  {
   "cell_type": "markdown",
   "metadata": {},
   "source": [
    "### Conclusion\n",
    "\n",
    "In this notebook, we worked through several steps to classify tumors as either benign or malignant using the Wisconsin Diagnostic Breast Cancer dataset. Here's a summary of what we covered:\n",
    "  \n",
    "1. **Data Loading and Exploration**: We used pandas to load and inspect the dataset, identifying key features and understanding the structure of the data.\n",
    "2. **Data Visualization**: We created scatter plots to visualize the relationships between important features such as **perimeter mean** and **concavity mean**. These visualizations helped us see the separation between benign and malignant tumors.\n",
    "3. **K-Nearest Neighbors Algorithm (KNN)**: We manually implemented the KNN algorithm, calculating distances to classify a new observation. This showed how KNN works by finding the closest neighbors to predict a class.\n",
    "4. **Extending to More Variables**: We extended our analysis to three variables using a 3D scatter plot, demonstrating that more features can provide additional insights for classification tasks.\n",
    "  \n",
    "By the end, we also used the `scikit-learn` library to automate the KNN process, making the classification task simpler and more efficient. We hope this notebook has given you a hands-on understanding of data visualization, classification, and the practical use of machine learning algorithms like KNN. Don’t hesitate to experiment more with the dataset or the code to deepen your learning!\n"
   ]
  }
 ],
 "metadata": {
  "kernelspec": {
   "display_name": "base",
   "language": "python",
   "name": "python3"
  },
  "language_info": {
   "codemirror_mode": {
    "name": "ipython",
    "version": 3
   },
   "file_extension": ".py",
   "mimetype": "text/x-python",
   "name": "python",
   "nbconvert_exporter": "python",
   "pygments_lexer": "ipython3",
<<<<<<< HEAD
   "version": "3.12.3"
=======
   "version": "3.10.14"
>>>>>>> 3ee57330ef6f50b6b4ded9ff8815b15e5164b22a
  }
 },
 "nbformat": 4,
 "nbformat_minor": 2
}
