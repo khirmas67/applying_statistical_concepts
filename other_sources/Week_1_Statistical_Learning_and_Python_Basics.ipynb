{
 "cells": [
  {
   "cell_type": "markdown",
   "id": "16543381",
   "metadata": {},
   "source": [
    "# Week 1: Introduction to Statistical Learning & Python Basics"
   ]
  },
  {
   "cell_type": "markdown",
   "id": "c2f13313",
   "metadata": {},
   "source": [
    "### Part 1: Introduction to Statistical Learning"
   ]
  },
  {
   "cell_type": "markdown",
   "id": "a2c6795a",
   "metadata": {},
   "source": [
    "\n",
    "1. **What is Statistical Learning?**\n",
    "   - **Goal**: Build models that capture the relationship between variables (features) and predict new outcomes or provide insight into how different variables are related.\n",
    "   - **Supervised Learning**: Input features (X) and corresponding outputs (Y) are used to train models. Examples include regression and classification.\n",
    "   - **Unsupervised Learning**: No labeled output (Y). Examples include clustering and dimensionality reduction.\n",
    "\n",
    "2. **Key Concepts**\n",
    "   - **Training vs. Test Sets**: A model is trained on a subset of data and tested on new data to assess its performance.\n",
    "   - **Bias-Variance Tradeoff**: A balance between a model being too simple (high bias) or too complex (high variance).\n",
    "   - **Prediction vs. Inference**: Predicting future observations vs. understanding relationships between variables.\n",
    "    "
   ]
  },
  {
   "cell_type": "markdown",
   "id": "e6eee9ff",
   "metadata": {},
   "source": [
    "### Part 2: Python Setup and Pandas Basics"
   ]
  },
  {
   "cell_type": "markdown",
   "id": "df2f9305",
   "metadata": {},
   "source": [
    "\n",
    "Let's start by ensuring you're comfortable with some Python basics, including data manipulation with **Pandas**. If you haven’t installed these tools yet, here’s a quick guide:\n",
    "\n",
    "1. **Install Python and Libraries**\n",
    "   - Download and install Anaconda from [here](https://www.anaconda.com/products/individual), which comes with Jupyter notebooks and all the libraries like Pandas, NumPy, and Scikit-learn.\n",
    "\n",
    "2. **Basic Pandas Operations**\n",
    "    "
   ]
  },
  {
   "cell_type": "code",
   "execution_count": 1,
   "id": "72c4d59f",
   "metadata": {},
   "outputs": [
    {
     "name": "stdout",
     "output_type": "stream",
     "text": [
      "DataFrame:\n",
      "      Name  Age  Salary\n",
      "0    Alice   25   70000\n",
      "1      Bob   30   80000\n",
      "2  Charlie   35  120000\n",
      "3    David   40   90000\n",
      "\n",
      "Ages of employees:\n",
      "0    25\n",
      "1    30\n",
      "2    35\n",
      "3    40\n",
      "Name: Age, dtype: int64\n",
      "\n",
      "Summary statistics:\n",
      "             Age         Salary\n",
      "count   4.000000       4.000000\n",
      "mean   32.500000   90000.000000\n",
      "std     6.454972   21602.468995\n",
      "min    25.000000   70000.000000\n",
      "25%    28.750000   77500.000000\n",
      "50%    32.500000   85000.000000\n",
      "75%    36.250000   97500.000000\n",
      "max    40.000000  120000.000000\n",
      "\n",
      "Employees with Salary > 80,000:\n",
      "      Name  Age  Salary\n",
      "2  Charlie   35  120000\n",
      "3    David   40   90000\n"
     ]
    }
   ],
   "source": [
    "\n",
    "# Import necessary libraries\n",
    "import pandas as pd\n",
    "\n",
    "# Create a sample DataFrame\n",
    "data = {'Name': ['Alice', 'Bob', 'Charlie', 'David'],\n",
    "        'Age': [25, 30, 35, 40],\n",
    "        'Salary': [70000, 80000, 120000, 90000]}\n",
    "\n",
    "df = pd.DataFrame(data)\n",
    "\n",
    "# Display the DataFrame\n",
    "print(\"DataFrame:\")\n",
    "print(df)\n",
    "\n",
    "# Access columns\n",
    "print(\"\\nAges of employees:\")\n",
    "print(df['Age'])\n",
    "\n",
    "# Basic statistics\n",
    "print(\"\\nSummary statistics:\")\n",
    "print(df.describe())\n",
    "\n",
    "# Filtering data\n",
    "print(\"\\nEmployees with Salary > 80,000:\")\n",
    "high_salary = df[df['Salary'] > 80000]\n",
    "print(high_salary)\n"
   ]
  },
  {
   "cell_type": "markdown",
   "id": "ee0cebc9",
   "metadata": {},
   "source": [
    "\n",
    "#### Task: Run the code\n",
    "1. Create a Pandas DataFrame and perform basic operations:\n",
    "   - Load a dataset\n",
    "   - Access columns and rows\n",
    "   - Perform filtering based on conditions (like salary > 80,000)\n",
    "    "
   ]
  },
  {
   "cell_type": "markdown",
   "id": "39cade23",
   "metadata": {},
   "source": [
    "### Part 3: Python Libraries Overview"
   ]
  },
  {
   "cell_type": "markdown",
   "id": "a9263c73",
   "metadata": {},
   "source": [
    "\n",
    "In this week, we’ll work with the following Python libraries:\n",
    "- **NumPy**: For numerical operations, array manipulation\n",
    "- **Pandas**: For handling and analyzing data\n",
    "- **Matplotlib/Seaborn**: For basic plotting\n",
    "- **Scikit-learn**: For machine learning models (in later weeks)\n",
    "\n",
    "---\n",
    "\n",
    "#### Next Steps:\n",
    "- Practice with a simple dataset: Try loading a CSV file using Pandas and perform basic data analysis.\n",
    "- Let me know if you need any sample datasets or help with any part of this process! Once you're comfortable with this, we can move to the next topic: **Linear Regression**.\n",
    "    "
   ]
  }
 ],
 "metadata": {
  "kernelspec": {
   "display_name": "base",
   "language": "python",
   "name": "python3"
  },
  "language_info": {
   "codemirror_mode": {
    "name": "ipython",
    "version": 3
   },
   "file_extension": ".py",
   "mimetype": "text/x-python",
   "name": "python",
   "nbconvert_exporter": "python",
   "pygments_lexer": "ipython3",
   "version": "3.12.3"
  }
 },
 "nbformat": 4,
 "nbformat_minor": 5
}
